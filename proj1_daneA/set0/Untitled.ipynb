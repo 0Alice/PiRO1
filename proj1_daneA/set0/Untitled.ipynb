{
 "cells": [
  {
   "cell_type": "code",
   "execution_count": 2,
   "metadata": {},
   "outputs": [],
   "source": [
    "%matplotlib inline\n",
    "import numpy as np\n",
    "import matplotlib.pyplot as plt\n",
    "import skimage.io as io\n",
    "import skimage.data as data\n",
    "import skimage.color as color\n",
    "import skimage\n",
    "import math\n",
    "import cv2\n",
    "from skimage.transform import hough_line, hough_line_peaks,probabilistic_hough_line\n",
    "from skimage.draw import line"
   ]
  },
  {
   "cell_type": "code",
   "execution_count": 3,
   "metadata": {},
   "outputs": [
    {
     "name": "stderr",
     "output_type": "stream",
     "text": [
      "C:\\Users\\Ania\\Anaconda3\\lib\\site-packages\\skimage\\io\\_plugins\\matplotlib_plugin.py:51: FutureWarning: Conversion of the second argument of issubdtype from `float` to `np.floating` is deprecated. In future, it will be treated as `np.float64 == np.dtype(float).type`.\n",
      "  out_of_range_float = (np.issubdtype(image.dtype, np.float) and\n"
     ]
    },
    {
     "data": {
      "text/plain": [
       "<matplotlib.image.AxesImage at 0xb9c6c88>"
      ]
     },
     "execution_count": 3,
     "metadata": {},
     "output_type": "execute_result"
    },
    {
     "data": {
      "image/png": "[encoded data removed]",
      "text/plain": [
       "<matplotlib.figure.Figure at 0xb95c6a0>"
      ]
     },
     "metadata": {},
     "output_type": "display_data"
    }
   ],
   "source": [
    "img = io.imread('18.png')\n",
    "io.imshow(img)"
   ]
  },
  {
   "cell_type": "code",
   "execution_count": 15,
   "metadata": {},
   "outputs": [
    {
     "name": "stdout",
     "output_type": "stream",
     "text": [
      "[[[125.44792    15.632093   32.84845     2.5882595]]\n",
      "\n",
      " [[ 31.380278    3.2308836   2.4448373 209.63013  ]]\n",
      "\n",
      " [[ 48.447277  216.02992   126.044044   16.06747  ]]\n",
      "\n",
      " [[  3.1954246 210.1252     47.12992   216.31583  ]]]\n"
     ]
    },
    {
     "name": "stderr",
     "output_type": "stream",
     "text": [
      "C:\\Users\\Ania\\Anaconda3\\lib\\site-packages\\skimage\\io\\_plugins\\matplotlib_plugin.py:51: FutureWarning: Conversion of the second argument of issubdtype from `float` to `np.floating` is deprecated. In future, it will be treated as `np.float64 == np.dtype(float).type`.\n",
      "  out_of_range_float = (np.issubdtype(image.dtype, np.float) and\n"
     ]
    },
    {
     "data": {
      "text/plain": [
       "<matplotlib.image.AxesImage at 0x8789be0>"
      ]
     },
     "execution_count": 15,
     "metadata": {},
     "output_type": "execute_result"
    },
    {
     "data": {
      "image/png": "[encoded data removed]",
      "text/plain": [
       "<matplotlib.figure.Figure at 0x8560710>"
      ]
     },
     "metadata": {},
     "output_type": "display_data"
    }
   ],
   "source": [
    "\n",
    "#Read gray image\n",
    "#img = cv2.imread(\"test.png\",0)\n",
    "\n",
    "#Create default parametrization LSD\n",
    "lsd = cv2.createLineSegmentDetector(0)\n",
    "\n",
    "#Detect lines in the image\n",
    "lines = lsd.detect(img)[0] #Position 0 of the returned tuple are the detected lines\n",
    "print(lines)\n",
    "#Draw detected lines in the image\n",
    "drawn_img = lsd.drawSegments(img,lines)\n",
    "\n",
    "#Show image\n",
    "io.imshow(drawn_img)\n",
    "#cv2.imshow(drawn_img)\n",
    "#cv2.waitKey(0)"
   ]
  },
  {
   "cell_type": "code",
   "execution_count": 7,
   "metadata": {},
   "outputs": [
    {
     "ename": "NameError",
     "evalue": "name 'mask' is not defined",
     "output_type": "error",
     "traceback": [
      "\u001b[1;31m---------------------------------------------------------------------------\u001b[0m",
      "\u001b[1;31mNameError\u001b[0m                                 Traceback (most recent call last)",
      "\u001b[1;32m<ipython-input-7-31a9281acaeb>\u001b[0m in \u001b[0;36m<module>\u001b[1;34m()\u001b[0m\n\u001b[0;32m      6\u001b[0m     \u001b[0mx1\u001b[0m \u001b[1;33m=\u001b[0m \u001b[0mint\u001b[0m\u001b[1;33m(\u001b[0m\u001b[0mround\u001b[0m\u001b[1;33m(\u001b[0m\u001b[0mdline\u001b[0m\u001b[1;33m[\u001b[0m\u001b[1;36m0\u001b[0m\u001b[1;33m]\u001b[0m\u001b[1;33m[\u001b[0m\u001b[1;36m2\u001b[0m\u001b[1;33m]\u001b[0m\u001b[1;33m)\u001b[0m\u001b[1;33m)\u001b[0m\u001b[1;33m\u001b[0m\u001b[0m\n\u001b[0;32m      7\u001b[0m     \u001b[0my1\u001b[0m \u001b[1;33m=\u001b[0m \u001b[0mint\u001b[0m\u001b[1;33m(\u001b[0m\u001b[0mround\u001b[0m\u001b[1;33m(\u001b[0m\u001b[0mdline\u001b[0m\u001b[1;33m[\u001b[0m\u001b[1;36m0\u001b[0m\u001b[1;33m]\u001b[0m\u001b[1;33m[\u001b[0m\u001b[1;36m3\u001b[0m\u001b[1;33m]\u001b[0m\u001b[1;33m)\u001b[0m\u001b[1;33m)\u001b[0m\u001b[1;33m\u001b[0m\u001b[0m\n\u001b[1;32m----> 8\u001b[1;33m     \u001b[0mcv2\u001b[0m\u001b[1;33m.\u001b[0m\u001b[0mline\u001b[0m\u001b[1;33m(\u001b[0m\u001b[0mmask\u001b[0m\u001b[1;33m,\u001b[0m \u001b[1;33m(\u001b[0m\u001b[0mx0\u001b[0m\u001b[1;33m,\u001b[0m \u001b[0my0\u001b[0m\u001b[1;33m)\u001b[0m\u001b[1;33m,\u001b[0m \u001b[1;33m(\u001b[0m\u001b[0mx1\u001b[0m\u001b[1;33m,\u001b[0m\u001b[0my1\u001b[0m\u001b[1;33m)\u001b[0m\u001b[1;33m,\u001b[0m \u001b[1;36m255\u001b[0m\u001b[1;33m,\u001b[0m \u001b[1;36m1\u001b[0m\u001b[1;33m,\u001b[0m \u001b[0mcv2\u001b[0m\u001b[1;33m.\u001b[0m\u001b[0mLINE_AA\u001b[0m\u001b[1;33m)\u001b[0m\u001b[1;33m\u001b[0m\u001b[0m\n\u001b[0m",
      "\u001b[1;31mNameError\u001b[0m: name 'mask' is not defined"
     ]
    }
   ],
   "source": [
    "lsd = cv2.createLineSegmentDetector(0)\n",
    "dlines = lsd.detect(img)\n",
    "for dline in dlines[0]:\n",
    "    x0 = int(round(dline[0][0]))\n",
    "    y0 = int(round(dline[0][1]))\n",
    "    x1 = int(round(dline[0][2]))\n",
    "    y1 = int(round(dline[0][3]))\n",
    "    cv2.line(mask, (x0, y0), (x1,y1), 255, 1, cv2.LINE_AA)"
   ]
  },
  {
   "cell_type": "code",
   "execution_count": 38,
   "metadata": {},
   "outputs": [],
   "source": [
    "# Compute the Euclidean norm\n",
    "def hypot( x,  y):\n",
    "    return math.sqrt(x * x + y * y)\n",
    "        \n",
    " \n",
    "def RadiansToDegrees( radians):\n",
    "    degree = 180 * radians / math.pi\n",
    "    return degree\n",
    "\n",
    " \n",
    "def GetDistance( x1,  y1,  x2,  y2):\n",
    "    return hypot(x2 - x1, y2 - y1)\n",
    "        \n",
    " \n",
    "def GetAngle( x1,y1,x2,y2,x3,y3):\n",
    "    a = GetDistance(x3,y3,x2,y2)\n",
    "    b = GetDistance(x1,y1,x3,y3)\n",
    "    c = GetDistance(x1,y1,x2,y2)\n",
    "            \n",
    "    radians = math.acos((a * a + c * c - b * b) / (2 * a * c))\n",
    "    return RadiansToDegrees(radians);\n",
    "    \n",
    "def Angle(a,b,c):\n",
    "    radians = math.acos((a * a + c * c - b * b) / (2 * a * c))\n",
    "    return RadiansToDegrees(radians);\n",
    "    "
   ]
  },
  {
   "cell_type": "code",
   "execution_count": 41,
   "metadata": {},
   "outputs": [
    {
     "name": "stdout",
     "output_type": "stream",
     "text": [
      "[[125.44792, 15.632093], [31.380278, 3.2308836], [48.447277, 216.02992], [3.1954246, 210.1252]]\n",
      "77.90438934096788\n"
     ]
    }
   ],
   "source": [
    "dist=[]\n",
    "for i in lines:\n",
    "    for z in i:\n",
    "        \n",
    "        dist.append([z[0],z[1]])\n",
    "print(dist) #wierzcholki\n",
    "print(GetAngle(dist[0][0],dist[0][1],dist[1][0],dist[1][1],dist[2][0],dist[2][1]))"
   ]
  },
  {
   "cell_type": "code",
   "execution_count": null,
   "metadata": {},
   "outputs": [],
   "source": []
  }
 ],
 "metadata": {
  "kernelspec": {
   "display_name": "Python 3",
   "language": "python",
   "name": "python3"
  },
  "language_info": {
   "codemirror_mode": {
    "name": "ipython",
    "version": 3
   },
   "file_extension": ".py",
   "mimetype": "text/x-python",
   "name": "python",
   "nbconvert_exporter": "python",
   "pygments_lexer": "ipython3",
   "version": "3.6.4"
  }
 },
 "nbformat": 4,
 "nbformat_minor": 2
}
